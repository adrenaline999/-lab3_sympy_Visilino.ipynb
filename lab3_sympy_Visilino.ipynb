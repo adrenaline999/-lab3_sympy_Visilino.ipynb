{
  "nbformat": 4,
  "nbformat_minor": 0,
  "metadata": {
    "colab": {
      "provenance": [],
      "authorship_tag": "ABX9TyPoN83pZdxMa22AU8JHMTly",
      "include_colab_link": true
    },
    "kernelspec": {
      "name": "python3",
      "display_name": "Python 3"
    },
    "language_info": {
      "name": "python"
    }
  },
  "cells": [
    {
      "cell_type": "markdown",
      "metadata": {
        "id": "view-in-github",
        "colab_type": "text"
      },
      "source": [
        "<a href=\"https://colab.research.google.com/github/adrenaline999/-lab3_sympy_Visilino.ipynb/blob/main/lab3_sympy_Visilino.ipynb\" target=\"_parent\"><img src=\"https://colab.research.google.com/assets/colab-badge.svg\" alt=\"Open In Colab\"/></a>"
      ]
    },
    {
      "cell_type": "code",
      "source": [],
      "metadata": {
        "id": "bhT_0PVqH--9"
      },
      "execution_count": null,
      "outputs": []
    },
    {
      "cell_type": "markdown",
      "source": [
        "## Laboratory Activity #3: Introduction to SymPy\n",
        "\n",
        "###Objectives:\n",
        "- Apply basic symbolic calculations using SymPy"
      ],
      "metadata": {
        "id": "ry6k4qR8H7Bq"
      }
    },
    {
      "cell_type": "markdown",
      "source": [
        "Task # 1: Include all necessary sympy modules"
      ],
      "metadata": {
        "id": "hzmzfausIl5q"
      }
    },
    {
      "cell_type": "code",
      "source": [
        "from sympy import symbols, sqrt\n",
        "\n",
        "expr1 = 53 + 10 * sqrt(2)\n",
        "print(f\"53 + 10*sqrt(2) = {expr1}\")\n",
        "\n",
        "expr2 = sqrt(50) * sqrt(59)\n",
        "print(f\"sqrt(50) * sqrt(59) = {expr2}\")\n",
        "\n",
        "simplified_expr2 = expr2.simplify()\n",
        "print(f\"Simplified sqrt(50) * sqrt(59) = {simplified_expr2}\")\n",
        "\n",
        "print(f\"Numerical approximation of 53 + 10*sqrt(2) = {expr1.evalf()}\")\n",
        "print(f\"Numerical approximation of sqrt(50) * sqrt(59) = {expr2.evalf()}\")"
      ],
      "metadata": {
        "id": "Obs9hYKdIOu0"
      },
      "execution_count": null,
      "outputs": []
    },
    {
      "cell_type": "markdown",
      "source": [
        "#### Task # 2: Basic calculation\n",
        "Solve for the following:\n",
        "\n",
        "- $\\frac{5}{3} + \\frac{\\sqrt{10}}{2}$\n",
        "- $\\sqrt{50} \\times \\sqrt{\\frac{5}{9}}$"
      ],
      "metadata": {
        "id": "3i4pd__LIl1X"
      }
    },
    {
      "cell_type": "code",
      "source": [
        "from sympy import sqrt\n",
        "\n",
        "# First expression\n",
        "expr1 = 53 + 10 * sqrt(2)\n",
        "print(expr1)\n"
      ],
      "metadata": {
        "id": "GvbaP6AkPM3X"
      },
      "execution_count": null,
      "outputs": []
    },
    {
      "cell_type": "code",
      "source": [
        "# Second expression\n",
        "expr2 = sqrt(50) * sqrt(59)\n",
        "print(expr2)\n"
      ],
      "metadata": {
        "id": "B--r_5DIPrXl"
      },
      "execution_count": null,
      "outputs": []
    },
    {
      "cell_type": "markdown",
      "source": [
        "#### Task # 3: Symbols\n",
        "Create the equation for the following using `Symbols`:\n",
        "- $2x+3y=12$\n",
        "- $x−y=4$"
      ],
      "metadata": {
        "id": "UH2m4ur7NERn"
      }
    },
    {
      "cell_type": "code",
      "source": [
        "from sympy import symbols, Eq\n",
        "\n",
        "# Define the symbols\n",
        "x, y = symbols('x y')\n",
        "equation1 = Eq(2*x + 3*y, 12)\n",
        "print(f\"Equation 1: {equation1}\")\n",
        "\n",
        "Equation 1: Eq(2*x + 3*y, 12)"
      ],
      "metadata": {
        "id": "kN49FhTjJytG"
      },
      "execution_count": null,
      "outputs": []
    },
    {
      "cell_type": "code",
      "source": [
        "from sympy import symbols, Eq\n",
        "x, y = symbols('x y')\n",
        "\n",
        "equation2 = Eq(x - y, 4)\n",
        "print(f\"Equation 2: {equation2}\")\n",
        "\n",
        "Equation 2: Eq(x - y, 4)"
      ],
      "metadata": {
        "id": "VdyphDxVJ25W"
      },
      "execution_count": null,
      "outputs": []
    },
    {
      "cell_type": "markdown",
      "source": [
        "#### Task # 3: Simplification\n",
        "Simplify the following equations using the `simplify` method\n",
        "\n",
        "- $\\frac{x^2 + 2x + 1}{x + 1}$\n",
        "\n",
        "- $\\frac{1 - \\frac{1}{1 + \\frac{1}{x}}}{1 + \\frac{1}{x}}\n",
        "$"
      ],
      "metadata": {
        "id": "IS8vTb7FPDbQ"
      }
    },
    {
      "cell_type": "code",
      "source": [
        "from sympy import symbols, simplify\n",
        "x = symbols('x')\n",
        "\n",
        "expr1 = (x**2 + 2*x + 1) / (x + 1)\n",
        "simplified_expr1 = simplify(expr1)\n",
        "print(f\"Original Expression 1: {expr1}\")\n",
        "print(f\"Simplified Expression 1: {simplified_expr1}\\n\")\n",
        "\n",
        "expr2 = 1 - 1 / (1 + 1/x)\n",
        "simplified_expr2 = simplify(expr2)\n",
        "print(f\"Original Expression 2: {expr2}\")\n",
        "print(f\"Simplified Expression 2: {simplified_expr2}\\n\")\n",
        "\n",
        "expr3 = 1 + 1/x\n",
        "simplified_expr3 = simplify(expr3)\n",
        "print(f\"Original Expression 3: {expr3}\")\n",
        "print(f\"Simplified Expression 3: {simplified_expr3}\\n\")\n",
        "\n",
        "Original Expression 1: (x**2 + 2*x + 1)/(x + 1)\n",
        "Simplified Expression 1: x + 1\n",
        "\n",
        "Original Expression 2: 1 - 1/(1 + 1/x)\n",
        "Simplified Expression 2: 1/(x + 1)\n",
        "\n",
        "Original Expression 3: 1 + 1/x\n",
        "Simplified Expression 3: (x + 1)/x"
      ],
      "metadata": {
        "id": "3yt2ogoaKIg9"
      },
      "execution_count": null,
      "outputs": []
    },
    {
      "cell_type": "markdown",
      "source": [],
      "metadata": {
        "id": "yenzMhGAKL9F"
      }
    },
    {
      "cell_type": "markdown",
      "source": [
        "### Task # 4: Expansion\n",
        "Expand the following expressions using the `expand` method\n",
        "- $(2x + 2)^2$\n",
        "- $(2x + y)(x - 2y)$\n"
      ],
      "metadata": {
        "id": "oXI_LJ-hRR_n"
      }
    },
    {
      "cell_type": "code",
      "source": [
        "from sympy import symbols, expand\n",
        "\n",
        "# Define the symbols\n",
        "x, y = symbols('x y')\n",
        "\n",
        "# Expression 1: (2x + 2)**2\n",
        "expr1 = (2*x + 2)**2\n",
        "expanded_expr1 = expand(expr1)\n",
        "print(f\"Original Expression 1: {expr1}\")\n",
        "print(f\"Expanded Expression 1: {expanded_expr1}\\n\")\n",
        "\n",
        "# Expression 2: (2*x + y)*(x - 2*y)\n",
        "expr2 = (2*x + y)*(x - 2*y)\n",
        "expanded_expr2 = expand(expr2)\n",
        "print(f\"Original Expression 2: {expr2}\")\n",
        "print(f\"Expanded Expression 2: {expanded_expr2}\\n\")\n",
        "\n",
        "Original Expression 1: (2*x + 2)**2\n",
        "Expanded Expression 1: 4*x**2 + 8*x + 4\n",
        "\n",
        "Original Expression 2: (x - 2*y)*(2*x + y)\n",
        "Expanded Expression 2: 2*x**2 - 3*x*y - 2*y**2\n"
      ],
      "metadata": {
        "id": "tGnEQfR0KPbl"
      },
      "execution_count": null,
      "outputs": []
    }
  ]
}